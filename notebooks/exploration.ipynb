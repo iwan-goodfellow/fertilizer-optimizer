{
 "cells": [
  {
   "cell_type": "code",
   "execution_count": 2,
   "id": "705c4403",
   "metadata": {},
   "outputs": [],
   "source": [
    "import pandas as pd\n",
    "import numpy as np\n",
    "import matplotlib.pyplot as plt\n",
    "import seaborn as sns\n",
    "from sklearn.model_selection import train_test_split\n",
    "from sklearn.preprocessing import StandardScaler, OneHotEncoder, FunctionTransformer, RobustScaler\n",
    "from sklearn.compose import ColumnTransformer\n",
    "from sklearn.linear_model import LogisticRegression, ElasticNet\n",
    "from sklearn.pipeline import Pipeline\n",
    "from sklearn.impute import SimpleImputer\n",
    "from sklearn.metrics import accuracy_score, classification_report\n",
    "from xgboost import XGBClassifier\n",
    "from sklearn.ensemble import RandomForestClassifier, GradientBoostingClassifier\n",
    "import warnings\n",
    "warnings.filterwarnings(\"ignore\")"
   ]
  },
  {
   "cell_type": "code",
   "execution_count": 4,
   "id": "62df8f12",
   "metadata": {},
   "outputs": [
    {
     "data": {
      "application/vnd.microsoft.datawrangler.viewer.v0+json": {
       "columns": [
        {
         "name": "index",
         "rawType": "int64",
         "type": "integer"
        },
        {
         "name": "Temparature",
         "rawType": "int64",
         "type": "integer"
        },
        {
         "name": "Humidity",
         "rawType": "int64",
         "type": "integer"
        },
        {
         "name": "Moisture",
         "rawType": "int64",
         "type": "integer"
        },
        {
         "name": "Soil Type",
         "rawType": "object",
         "type": "string"
        },
        {
         "name": "Crop Type",
         "rawType": "object",
         "type": "string"
        },
        {
         "name": "Nitrogen",
         "rawType": "int64",
         "type": "integer"
        },
        {
         "name": "Potassium",
         "rawType": "int64",
         "type": "integer"
        },
        {
         "name": "Phosphorous",
         "rawType": "int64",
         "type": "integer"
        },
        {
         "name": "Fertilizer Name",
         "rawType": "object",
         "type": "string"
        }
       ],
       "ref": "fec7161a-ccbc-4b4b-ac05-3c521110af8b",
       "rows": [
        [
         "0",
         "37",
         "70",
         "36",
         "Clayey",
         "Sugarcane",
         "36",
         "4",
         "5",
         "28-28"
        ],
        [
         "1",
         "27",
         "69",
         "65",
         "Sandy",
         "Millets",
         "30",
         "6",
         "18",
         "28-28"
        ],
        [
         "2",
         "29",
         "63",
         "32",
         "Sandy",
         "Millets",
         "24",
         "12",
         "16",
         "17-17-17"
        ],
        [
         "3",
         "35",
         "62",
         "54",
         "Sandy",
         "Barley",
         "39",
         "12",
         "4",
         "10-26-26"
        ],
        [
         "4",
         "35",
         "58",
         "43",
         "Red",
         "Paddy",
         "37",
         "2",
         "16",
         "DAP"
        ]
       ],
       "shape": {
        "columns": 9,
        "rows": 5
       }
      },
      "text/html": [
       "<div>\n",
       "<style scoped>\n",
       "    .dataframe tbody tr th:only-of-type {\n",
       "        vertical-align: middle;\n",
       "    }\n",
       "\n",
       "    .dataframe tbody tr th {\n",
       "        vertical-align: top;\n",
       "    }\n",
       "\n",
       "    .dataframe thead th {\n",
       "        text-align: right;\n",
       "    }\n",
       "</style>\n",
       "<table border=\"1\" class=\"dataframe\">\n",
       "  <thead>\n",
       "    <tr style=\"text-align: right;\">\n",
       "      <th></th>\n",
       "      <th>Temparature</th>\n",
       "      <th>Humidity</th>\n",
       "      <th>Moisture</th>\n",
       "      <th>Soil Type</th>\n",
       "      <th>Crop Type</th>\n",
       "      <th>Nitrogen</th>\n",
       "      <th>Potassium</th>\n",
       "      <th>Phosphorous</th>\n",
       "      <th>Fertilizer Name</th>\n",
       "    </tr>\n",
       "  </thead>\n",
       "  <tbody>\n",
       "    <tr>\n",
       "      <th>0</th>\n",
       "      <td>37</td>\n",
       "      <td>70</td>\n",
       "      <td>36</td>\n",
       "      <td>Clayey</td>\n",
       "      <td>Sugarcane</td>\n",
       "      <td>36</td>\n",
       "      <td>4</td>\n",
       "      <td>5</td>\n",
       "      <td>28-28</td>\n",
       "    </tr>\n",
       "    <tr>\n",
       "      <th>1</th>\n",
       "      <td>27</td>\n",
       "      <td>69</td>\n",
       "      <td>65</td>\n",
       "      <td>Sandy</td>\n",
       "      <td>Millets</td>\n",
       "      <td>30</td>\n",
       "      <td>6</td>\n",
       "      <td>18</td>\n",
       "      <td>28-28</td>\n",
       "    </tr>\n",
       "    <tr>\n",
       "      <th>2</th>\n",
       "      <td>29</td>\n",
       "      <td>63</td>\n",
       "      <td>32</td>\n",
       "      <td>Sandy</td>\n",
       "      <td>Millets</td>\n",
       "      <td>24</td>\n",
       "      <td>12</td>\n",
       "      <td>16</td>\n",
       "      <td>17-17-17</td>\n",
       "    </tr>\n",
       "    <tr>\n",
       "      <th>3</th>\n",
       "      <td>35</td>\n",
       "      <td>62</td>\n",
       "      <td>54</td>\n",
       "      <td>Sandy</td>\n",
       "      <td>Barley</td>\n",
       "      <td>39</td>\n",
       "      <td>12</td>\n",
       "      <td>4</td>\n",
       "      <td>10-26-26</td>\n",
       "    </tr>\n",
       "    <tr>\n",
       "      <th>4</th>\n",
       "      <td>35</td>\n",
       "      <td>58</td>\n",
       "      <td>43</td>\n",
       "      <td>Red</td>\n",
       "      <td>Paddy</td>\n",
       "      <td>37</td>\n",
       "      <td>2</td>\n",
       "      <td>16</td>\n",
       "      <td>DAP</td>\n",
       "    </tr>\n",
       "  </tbody>\n",
       "</table>\n",
       "</div>"
      ],
      "text/plain": [
       "   Temparature  Humidity  Moisture  ... Potassium Phosphorous  Fertilizer Name\n",
       "0           37        70        36  ...         4           5            28-28\n",
       "1           27        69        65  ...         6          18            28-28\n",
       "2           29        63        32  ...        12          16         17-17-17\n",
       "3           35        62        54  ...        12           4         10-26-26\n",
       "4           35        58        43  ...         2          16              DAP\n",
       "\n",
       "[5 rows x 9 columns]"
      ]
     },
     "execution_count": 4,
     "metadata": {},
     "output_type": "execute_result"
    }
   ],
   "source": [
    "df = pd.read_csv(r'D:\\ds_ridwan\\fertilizer-optimizer\\data\\raw\\train.csv')\n",
    "df.drop(columns=['id'], inplace=True)\n",
    "df.head()"
   ]
  },
  {
   "cell_type": "code",
   "execution_count": 12,
   "id": "da635c2e",
   "metadata": {},
   "outputs": [
    {
     "name": "stdout",
     "output_type": "stream",
     "text": [
      "Fitur di Soil Type: ['Clayey' 'Sandy' 'Red' 'Loamy' 'Black']\n",
      "\n",
      "Fitur di Crop Type: ['Sugarcane' 'Millets' 'Barley' 'Paddy' 'Pulses' 'Tobacco' 'Ground Nuts'\n",
      " 'Maize' 'Cotton' 'Wheat' 'Oil seeds']\n",
      "\n",
      "Fitur di Target: ['28-28' '17-17-17' '10-26-26' 'DAP' '20-20' '14-35-14' 'Urea']\n"
     ]
    }
   ],
   "source": [
    "print(f'Fitur di Soil Type: {df[\"Soil Type\"].unique()}\\n')\n",
    "print(f'Fitur di Crop Type: {df[\"Crop Type\"].unique()}\\n')\n",
    "print(f'Fitur di Target: {df[\"Fertilizer Name\"].unique()}')"
   ]
  },
  {
   "cell_type": "code",
   "execution_count": 8,
   "id": "9856e3e0",
   "metadata": {},
   "outputs": [
    {
     "name": "stdout",
     "output_type": "stream",
     "text": [
      "<class 'pandas.core.frame.DataFrame'>\n",
      "RangeIndex: 750000 entries, 0 to 749999\n",
      "Data columns (total 9 columns):\n",
      " #   Column           Non-Null Count   Dtype \n",
      "---  ------           --------------   ----- \n",
      " 0   Temparature      750000 non-null  int64 \n",
      " 1   Humidity         750000 non-null  int64 \n",
      " 2   Moisture         750000 non-null  int64 \n",
      " 3   Soil Type        750000 non-null  object\n",
      " 4   Crop Type        750000 non-null  object\n",
      " 5   Nitrogen         750000 non-null  int64 \n",
      " 6   Potassium        750000 non-null  int64 \n",
      " 7   Phosphorous      750000 non-null  int64 \n",
      " 8   Fertilizer Name  750000 non-null  object\n",
      "dtypes: int64(6), object(3)\n",
      "memory usage: 51.5+ MB\n"
     ]
    }
   ],
   "source": [
    "df.info()"
   ]
  },
  {
   "cell_type": "code",
   "execution_count": null,
   "id": "bb4c0d5a",
   "metadata": {},
   "outputs": [],
   "source": []
  },
  {
   "cell_type": "code",
   "execution_count": null,
   "id": "0d7c5738",
   "metadata": {},
   "outputs": [],
   "source": []
  }
 ],
 "metadata": {
  "kernelspec": {
   "display_name": "mlKlasik",
   "language": "python",
   "name": "python3"
  },
  "language_info": {
   "codemirror_mode": {
    "name": "ipython",
    "version": 3
   },
   "file_extension": ".py",
   "mimetype": "text/x-python",
   "name": "python",
   "nbconvert_exporter": "python",
   "pygments_lexer": "ipython3",
   "version": "3.9.21"
  }
 },
 "nbformat": 4,
 "nbformat_minor": 5
}
